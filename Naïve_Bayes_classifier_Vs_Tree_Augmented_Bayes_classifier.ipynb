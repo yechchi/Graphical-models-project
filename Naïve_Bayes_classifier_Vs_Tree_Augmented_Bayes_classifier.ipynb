{
  "nbformat": 4,
  "nbformat_minor": 0,
  "metadata": {
    "kernelspec": {
      "display_name": "Python 3",
      "language": "python",
      "name": "python3"
    },
    "language_info": {
      "codemirror_mode": {
        "name": "ipython",
        "version": 3
      },
      "file_extension": ".py",
      "mimetype": "text/x-python",
      "name": "python",
      "nbconvert_exporter": "python",
      "pygments_lexer": "ipython3",
      "version": "3.8.5"
    },
    "colab": {
      "name": "Naïve_Bayes_classifier_Vs_Tree_Augmented_Bayes_classifier.ipynb",
      "provenance": [],
      "collapsed_sections": []
    }
  },
  "cells": [
    {
      "cell_type": "markdown",
      "metadata": {
        "id": "GrCWi1wwkseO"
      },
      "source": [
        ""
      ]
    },
    {
      "cell_type": "code",
      "metadata": {
        "id": "T37X-RxNkseP"
      },
      "source": [
        "import numpy as np\n",
        "import pandas as pd\n",
        "import seaborn as sn\n",
        "import matplotlib.pyplot as plt\n",
        "from scipy.stats import multivariate_normal as mvr\n",
        "from scipy.stats import pearsonr as pr\n",
        "from sklearn.metrics import confusion_matrix"
      ],
      "execution_count": null,
      "outputs": []
    },
    {
      "cell_type": "code",
      "metadata": {
        "id": "XoqiXaVvkseQ"
      },
      "source": [
        "from sklearn.model_selection import train_test_split\n",
        "from sklearn import datasets\n",
        "\n",
        "digits = datasets.load_digits()\n",
        "X=digits.data\n",
        "y=digits.target\n",
        "\n",
        "#get rid of constant columns\n",
        "X = X[:, ~np.all(X[1:] == X[:-1], axis=0)]\n",
        "\n",
        "#split data into train and test\n",
        "X_train, X_test, y_train, y_test = train_test_split(X,\n",
        "                                                    y, test_size=0.33, random_state=42)"
      ],
      "execution_count": null,
      "outputs": []
    },
    {
      "cell_type": "markdown",
      "metadata": {
        "id": "LuNBSvc8kseR"
      },
      "source": [
        "We assume that the features follow a normal distribution and they are independent given  the label y\n",
        "$$f(x) = \\frac{1}{\\sqrt{(2 \\pi)^d \\det \\Sigma}}\n",
        "         \\exp\\left( -\\frac{1}{2} (x - \\mu)^T \\Sigma^{-1} (x - \\mu) \\right)\n",
        "$$"
      ]
    },
    {
      "cell_type": "markdown",
      "metadata": {
        "id": "b8NC4algkseS"
      },
      "source": [
        "# NaiveBayes Model"
      ]
    },
    {
      "cell_type": "code",
      "metadata": {
        "id": "va1BqDXXkseS"
      },
      "source": [
        "# Create a class with fit, predict and scores methods with respect to Bayes approach\n",
        "\n",
        "class NaiveBayes:\n",
        "    \n",
        "    # to make sure that fit gets called before predict\n",
        "    fitted = False\n",
        "    # to take in considerition whether there is negative labels\n",
        "    present = False\n",
        "    \n",
        "    def fit(self, X, y, var_smoothing=1e-9): # add a smoothing parameter for calculus stability  \n",
        "        \n",
        "        # create a dictionoary for the parameters of the likelihood distrubtion\n",
        "        self.params = {}\n",
        "        \n",
        "        # the prior distribution \n",
        "        self.priors = {}\n",
        "        \n",
        "        #get the set opf classes in the target variable y\n",
        "        self.classes = list(sorted(set(y)))\n",
        "        \n",
        "        if -1 in self.classes:\n",
        "            self.present = True\n",
        "            \n",
        "        \n",
        "        for indx, c in enumerate(self.classes):\n",
        "            \n",
        "            # estimate the params of the likelyhood distribution\n",
        "            x = X[y==c]\n",
        "            self.params[indx] = {\n",
        "                'mean': x.mean(axis=0),\n",
        "                'variance': x.var(axis=0) + var_smoothing }   \n",
        "            \n",
        "            # compute the prior distribution\n",
        "            self.priors[indx] = len(y[y==c])/len(y)\n",
        "            \n",
        "            self.fitted = True\n",
        "            \n",
        "            \n",
        "    def predict(self, X):\n",
        "        \n",
        "        # raise an exception if this function is called before fittin the model\n",
        "        if not self.fitted:\n",
        "            raise Exception('The model need to be trained first')\n",
        "        \n",
        "        # get the n_rows in X:\n",
        "        n = X.shape[0]\n",
        "        \n",
        "        # get the number of classes from the training\n",
        "        k = len(self.params)\n",
        "        \n",
        "        # initiate matrix for the a postriori distribution (n*k)\n",
        "        P = np.zeros((n, k), dtype = 'float')\n",
        "        \n",
        "        # compute the apostriori probability which is proportional to maxlikelyhood * priors\n",
        "        for indx, prm in self.params.items():\n",
        "            \n",
        "            mean, var = prm['mean'], prm['variance']\n",
        "            \n",
        "            #we fill in the matrix by column\n",
        "            P[:,indx] = mvr.pdf(X, mean = mean, cov = var)* self.priors[indx]\n",
        "        \n",
        "        # return the label (column number) with highest  apostriori value\n",
        "        out = np.argmax(P, axis=1)\n",
        "        \n",
        "        if self.present:\n",
        "            out[out == 0] = -1\n",
        "            \n",
        "        return out\n",
        "    \n",
        "                                \n",
        "    def score(self, X, y):\n",
        "        \n",
        "        #predict classes\n",
        "        y_pred = self.predict(X)\n",
        "        \n",
        "        #return the average of the instance that were correctly labled\n",
        "        return np.mean(y_pred == y)\n",
        "    \n",
        "    \n",
        "    def  confusion_matrix_plot(self, X, y):\n",
        "        \n",
        "        #predict classes\n",
        "        y_pred = self.predict(X)\n",
        "        #compute the confusion matrix\n",
        "        cm = confusion_matrix(y, y_pred)\n",
        "        \n",
        "        # transform cm from array to dataframe\n",
        "        column = [str(x) for x in self.classes]\n",
        "        df_cm = pd.DataFrame(cm, index = column, columns = column)\n",
        "        sn.set(font_scale=1.4) # for label size\n",
        "        sn.heatmap(df_cm, annot=True, annot_kws={\"size\": 16}) # font size\n",
        "        # show the matrix\n",
        "        plt.show()\n"
      ],
      "execution_count": null,
      "outputs": []
    },
    {
      "cell_type": "code",
      "metadata": {
        "id": "95ajeOynkseT",
        "colab": {
          "base_uri": "https://localhost:8080/"
        },
        "outputId": "664952ee-907d-4d08-ba09-003b0ed2d5de"
      },
      "source": [
        "# Kruskal's algorithm for constructing maximun span weith Tree\n",
        "\n",
        "class Graph:\n",
        "\n",
        "    #construct a graph\n",
        "    def __init__(self, vertices):\n",
        "        self.V = vertices\n",
        "        self.graph = []\n",
        "\n",
        "    def add_edge(self, u, v, w):\n",
        "        self.graph.append([u, v, w])\n",
        "\n",
        "    # Search function\n",
        "    def find(self, parent, i):\n",
        "        if parent[i] == i:\n",
        "            return i\n",
        "        return self.find(parent, parent[i])\n",
        "\n",
        "    def apply_union(self, parent, rank, x, y):\n",
        "        xroot = self.find(parent, x)\n",
        "        yroot = self.find(parent, y)\n",
        "        if rank[xroot] < rank[yroot]:\n",
        "            parent[xroot] = yroot\n",
        "        elif rank[xroot] > rank[yroot]:\n",
        "            parent[yroot] = xroot\n",
        "        else:\n",
        "            parent[yroot] = xroot\n",
        "            rank[xroot] += 1\n",
        "\n",
        "    #  Applying Kruskal algorithm\n",
        "    def kruskal_algo(self):\n",
        "        result = []\n",
        "        i, edge = 0, 0\n",
        "        self.graph = sorted(self.graph, key=lambda item: item[2], reverse = True)\n",
        "        parent = []\n",
        "        rank = []\n",
        "        for node in range(self.V):\n",
        "            parent.append(node)\n",
        "            rank.append(0)\n",
        "        while edge < self.V - 1:\n",
        "            u, v, w = self.graph[i]\n",
        "            i = i +1\n",
        "            x = self.find(parent, u)\n",
        "            y = self.find(parent, v)\n",
        "            if x != y:\n",
        "                edge += 1\n",
        "                result.append([u, v, w])\n",
        "                self.apply_union(parent, rank, x, y)\n",
        "        return result\n",
        "# exemple\n",
        "g = Graph(4)\n",
        "g.add_edge(0, 1, 1)\n",
        "g.add_edge(0, 2, 0.5)\n",
        "g.add_edge(1, 2, 0)\n",
        "g.add_edge(0, 3, 4)\n",
        "g.add_edge(2, 3, 0)\n",
        "g.add_edge(1, 3, np.inf)\n",
        "g.kruskal_algo()"
      ],
      "execution_count": null,
      "outputs": [
        {
          "output_type": "execute_result",
          "data": {
            "text/plain": [
              "[[1, 3, inf], [0, 3, 4], [0, 2, 0.5]]"
            ]
          },
          "metadata": {
            "tags": []
          },
          "execution_count": 4
        }
      ]
    },
    {
      "cell_type": "code",
      "metadata": {
        "id": "AGlOaDaykseS"
      },
      "source": [
        "class TAN():\n",
        "    \n",
        "    # to make sure that fit gets called before predict\n",
        "    fitted = False\n",
        "   \n",
        "    def fit(self, X, y, var_smoothing=1e-9): # add a smoothing parameter for calculus stability  \n",
        "        \n",
        "        # the prior distribution \n",
        "        self.priors = {}\n",
        "\n",
        "        # create a dictionoary for the mutual information\n",
        "        self.mu_info = {}\n",
        "        \n",
        "        #get the set opf classes in the target variable y\n",
        "        self.classes = list(sorted(set(y)))\n",
        "        \n",
        "        for c in self.classes:\n",
        "            #apply the coditionning to label\n",
        "            x = X[y==c]\n",
        "            # compute the prior distribution\n",
        "            self.mu_info[c] = {}\n",
        "            self.priors[c] = len(y[y==c])/len(y)\n",
        "\n",
        "            for i in range(X.shape[1]):\n",
        "                for j in range(i+1, X.shape[1]):\n",
        "                    self.mu_info[c][str(i)+str(j)] =  -0.5*np.log(1-pr(x[:,i], x[:,j])[0])\n",
        "            \n",
        "        # repalce nan values with 0\n",
        "        self.mu_info = {k1: {k2: 0 if np.isnan(v2) else v2 for k2, v2 in v1.items()} \\\n",
        "                    for k1, v1 in self.mu_info.items()}\n",
        "\n",
        "        # having mutual info, we can now construct the 10 trees with Kruskal algorithm \n",
        "        self.Trees = []\n",
        "        for c in self.classes:\n",
        "          # create as much nodes as much features in the training set\n",
        "          g = graph(X.shape[1])\n",
        "\n",
        "          #create the tree associated with label c\n",
        "          for k, v_ in self.mu_info[c].items():\n",
        "            # to get the indexes of features the mutual info to hava a suitable\n",
        "            # argument for the add_graph method\n",
        "            u, v, w = int(k.split(\",\")[0]), int(k.split(\",\")[1]), v_\n",
        "\n",
        "          # append each tree structure into Trees list\n",
        "          self.Trees.append(g.kruskal_algo())\n",
        "        \n",
        "    def predict(self, X):\n",
        "      \n",
        "                          \n",
        "           \n",
        "\n",
        "\n",
        "                \n",
        "    "
      ],
      "execution_count": null,
      "outputs": []
    },
    {
      "cell_type": "code",
      "metadata": {
        "id": "dwQ2n5t2kseU"
      },
      "source": [
        "model = NaiveBayes()\n",
        "model.fit(X_train, y_train, var_smoothing=1e-5)\n",
        "y_predict = model.predict(X_test) #predict labels for testing data"
      ],
      "execution_count": null,
      "outputs": []
    },
    {
      "cell_type": "code",
      "metadata": {
        "id": "-YlD_QgfkseU",
        "colab": {
          "base_uri": "https://localhost:8080/"
        },
        "outputId": "ab90023f-5eea-412e-ccbb-ce341c2d1e0e"
      },
      "source": [
        "model.score(X_test, y_test)"
      ],
      "execution_count": null,
      "outputs": [
        {
          "output_type": "execute_result",
          "data": {
            "text/plain": [
              "0.8703703703703703"
            ]
          },
          "metadata": {
            "tags": []
          },
          "execution_count": 6
        }
      ]
    },
    {
      "cell_type": "code",
      "metadata": {
        "id": "T7-5ieiBkseV",
        "colab": {
          "base_uri": "https://localhost:8080/",
          "height": 273
        },
        "outputId": "18b55e72-0339-4c4e-b9ec-65871456827c"
      },
      "source": [
        "model.confusion_matrix_plot(X_test, y_test)"
      ],
      "execution_count": null,
      "outputs": [
        {
          "output_type": "display_data",
          "data": {
            "image/png": "[encoded data removed]",
            "text/plain": [
              "<Figure size 432x288 with 2 Axes>"
            ]
          },
          "metadata": {
            "tags": []
          }
        }
      ]
    },
    {
      "cell_type": "markdown",
      "metadata": {
        "id": "EzBxqhSikseU"
      },
      "source": [
        "The type of correlation we used for compute the mutual information \n",
        "$$\\text{Pearson coefficient} = \\frac{\\sum (x - m_x) (y - m_y)}\n",
        "             {\\sqrt{\\sum (x - m_x)^2) \\sum (y - m_y)^2}}\n",
        "$$"
      ]
    }
  ]
}